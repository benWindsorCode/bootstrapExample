{
 "cells": [
  {
   "cell_type": "markdown",
   "metadata": {},
   "source": [
    "The bootstrap method is a statistical technique that allows us to predict quantities and confidence intervals given a sample. In particular we equally weight each of the points of our sample and then draw with replacement a new set of samples which we use to perform calculations. \n",
    "\n",
    "More formally, for a sample $S$ of size $n$, we create a distribution such that for $x \\in S$ we have $$\\mathbb{P}(x \\in X)=\\frac{1}{n}.$$\n",
    "\n",
    "In this example we will generate some data from a known Poisson distribution with $\\lambda=5$ and then use the bootstrap method to find a $99\\%$ confidence interval around the mean.\n",
    "\n",
    "For more information on this method see Wasserman's book 'All of Statistics'."
   ]
  },
  {
   "cell_type": "markdown",
   "metadata": {},
   "source": [
    "We start by generating our sample of size $10,000$."
   ]
  },
  {
   "cell_type": "code",
   "execution_count": 12,
   "metadata": {},
   "outputs": [
    {
     "data": {
      "image/png": "[encoded data removed]",
      "text/plain": [
       "<Figure size 432x288 with 1 Axes>"
      ]
     },
     "metadata": {
      "needs_background": "light"
     },
     "output_type": "display_data"
    }
   ],
   "source": [
    "import numpy as np\n",
    "import matplotlib.pyplot as plt\n",
    "%matplotlib inline\n",
    "\n",
    "n = 10000\n",
    "\n",
    "data = np.random.poisson(5, n)\n",
    "count, bins, ignored = plt.hist(data, 14, density=True)\n",
    "plt.show()"
   ]
  },
  {
   "cell_type": "markdown",
   "metadata": {},
   "source": [
    "We now draw $1000$ samples with replacement."
   ]
  },
  {
   "cell_type": "code",
   "execution_count": 27,
   "metadata": {},
   "outputs": [],
   "source": [
    "import random\n",
    "\n",
    "redraw = 1000\n",
    "\n",
    "samples = [ random.choices( data, k = 10000 ) for n in range( redraw )]"
   ]
  },
  {
   "cell_type": "markdown",
   "metadata": {},
   "source": [
    "For example you can see the first redrawn sample here."
   ]
  },
  {
   "cell_type": "code",
   "execution_count": 15,
   "metadata": {},
   "outputs": [
    {
     "data": {
      "image/png": "[encoded data removed]",
      "text/plain": [
       "<Figure size 432x288 with 1 Axes>"
      ]
     },
     "metadata": {
      "needs_background": "light"
     },
     "output_type": "display_data"
    }
   ],
   "source": [
    "count, bins, ignored = plt.hist(samples[0], 14, density=True)\n",
    "plt.show()"
   ]
  },
  {
   "cell_type": "markdown",
   "metadata": {},
   "source": [
    "For each of these samples we can calculate the mean. (For those not familiar with a functional programming approach, the reduce function I am using in effect takes an operator and a sequence of values and applies that operator 'along' the list.)"
   ]
  },
  {
   "cell_type": "code",
   "execution_count": 28,
   "metadata": {},
   "outputs": [],
   "source": [
    "import functools\n",
    "import operator\n",
    "\n",
    "def calculate_mean( sample ):\n",
    "    sum = functools.reduce(operator.add, sample, 0)\n",
    "    return sum/len(sample)\n",
    "\n",
    "means = [ calculate_mean( sample ) for sample in samples ]"
   ]
  },
  {
   "cell_type": "markdown",
   "metadata": {},
   "source": [
    "If we take look at a histogram of these means you can see the Central Limit Theorem at work, as they appear to be normally distributed, with a mean close to $5$."
   ]
  },
  {
   "cell_type": "code",
   "execution_count": 29,
   "metadata": {},
   "outputs": [
    {
     "data": {
      "image/png": "[encoded data removed]",
      "text/plain": [
       "<Figure size 432x288 with 1 Axes>"
      ]
     },
     "metadata": {
      "needs_background": "light"
     },
     "output_type": "display_data"
    }
   ],
   "source": [
    "count, bins, ignored = plt.hist(means, 14)\n",
    "plt.show()"
   ]
  },
  {
   "cell_type": "markdown",
   "metadata": {},
   "source": [
    "To create a $99\\%$ confidence interal, we need to shave off $0.5\\%$ from either side of the distribution. Hence we order the values and discard the values outside of the middle $99\\%$, then the highest and lowes values remaining for our $99\\%$ confidence interval."
   ]
  },
  {
   "cell_type": "code",
   "execution_count": 31,
   "metadata": {},
   "outputs": [],
   "source": [
    "from math import ceil\n",
    "\n",
    "means.sort()\n",
    "\n",
    "amount_to_loose = ceil(0.05*n)\n",
    "reduced_means = means[amount_to_loose : len(means)-amount_to_loose]\n",
    "lower_bound = reduced_means[0]\n",
    "upper_bound = reduced_means[len(reduced_means)-1]"
   ]
  },
  {
   "cell_type": "markdown",
   "metadata": {},
   "source": [
    "Hence we can see we have a $99\\%$ confidence interval lower bound of:"
   ]
  },
  {
   "cell_type": "code",
   "execution_count": 44,
   "metadata": {},
   "outputs": [
    {
     "data": {
      "text/plain": [
       "4.9498"
      ]
     },
     "execution_count": 44,
     "metadata": {},
     "output_type": "execute_result"
    }
   ],
   "source": [
    "lower_bound "
   ]
  },
  {
   "cell_type": "markdown",
   "metadata": {},
   "source": [
    "And an upper bound of:"
   ]
  },
  {
   "cell_type": "code",
   "execution_count": 46,
   "metadata": {},
   "outputs": [
    {
     "data": {
      "text/plain": [
       "5.0067"
      ]
     },
     "execution_count": 46,
     "metadata": {},
     "output_type": "execute_result"
    }
   ],
   "source": [
    "upper_bound"
   ]
  },
  {
   "cell_type": "markdown",
   "metadata": {},
   "source": [
    "As a sanity check we can see this does in fact contain our original mean of $5$."
   ]
  }
 ],
 "metadata": {
  "kernelspec": {
   "display_name": "Python 3",
   "language": "python",
   "name": "python3"
  },
  "language_info": {
   "codemirror_mode": {
    "name": "ipython",
    "version": 3
   },
   "file_extension": ".py",
   "mimetype": "text/x-python",
   "name": "python",
   "nbconvert_exporter": "python",
   "pygments_lexer": "ipython3",
   "version": "3.7.4"
  }
 },
 "nbformat": 4,
 "nbformat_minor": 4
}
